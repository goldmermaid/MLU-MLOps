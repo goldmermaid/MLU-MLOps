{
 "cells": [
  {
   "cell_type": "markdown",
   "metadata": {},
   "source": [
    "# Integrated Test\n",
    "In this test, we'll use a SageMaker Estimator (https://sagemaker.readthedocs.io/en/stable/estimators.html) to encapsulate the docker image published to ECR and start a **local** test, but this time, using the SageMaker library."
   ]
  },
  {
   "cell_type": "code",
   "execution_count": 1,
   "metadata": {},
   "outputs": [],
   "source": [
    "import sagemaker\n",
    "import json\n",
    "from sagemaker import get_execution_role\n",
    "\n",
    "role = get_execution_role()\n",
    "sagemaker_session = sagemaker.Session()\n",
    "bucket = sagemaker_session.default_bucket()\n",
    "prefix='mlops/iris'"
   ]
  },
  {
   "cell_type": "markdown",
   "metadata": {},
   "source": [
    "## Upload the dataset\n",
    "In the previous exercise, prepared the training and validation dataset. Now, we'll upload the CSVs to S3 and share them with an Estimator"
   ]
  },
  {
   "cell_type": "code",
   "execution_count": 2,
   "metadata": {},
   "outputs": [
    {
     "name": "stdout",
     "output_type": "stream",
     "text": [
      "Train: s3://sagemaker-us-east-1-757420736997/iris-model/input/train\n",
      "Validation: s3://sagemaker-us-east-1-757420736997/iris-model/input/validation\n"
     ]
    }
   ],
   "source": [
    "train_path = sagemaker_session.upload_data(path='input/data/train', key_prefix='iris-model/input/train')\n",
    "test_path = sagemaker_session.upload_data(path='input/data/validation', key_prefix='iris-model/input/validation')\n",
    "print(\"Train: %s\\nValidation: %s\" % (train_path, test_path) )"
   ]
  },
  {
   "cell_type": "markdown",
   "metadata": {},
   "source": [
    "## And now, we can use a SageMaker Estimator for training and deploying the container we've created"
   ]
  },
  {
   "cell_type": "code",
   "execution_count": 3,
   "metadata": {},
   "outputs": [
    {
     "name": "stdout",
     "output_type": "stream",
     "text": [
      "{'max_depth': 20, 'n_jobs': 4, 'n_estimators': 120}\n"
     ]
    }
   ],
   "source": [
    "# Create the estimator\n",
    "# iris-model:test is the name of the container created in the previous notebook\n",
    "# By the local codebuild test. An image with that name:tag was pushed to the ECR.\n",
    "iris = sagemaker.estimator.Estimator('iris-model:test',\n",
    "                                    role,\n",
    "                                    instance_count=1, \n",
    "                                    instance_type='local',\n",
    "                                    output_path='s3://{}/{}/output'.format(bucket, prefix))\n",
    "hyperparameters = {\n",
    "    'max_depth': 20,\n",
    "    'n_jobs': 4,\n",
    "    'n_estimators': 120\n",
    "}\n",
    "\n",
    "print(hyperparameters)\n",
    "iris.set_hyperparameters(**hyperparameters)"
   ]
  },
  {
   "cell_type": "markdown",
   "metadata": {},
   "source": [
    "After you call .fit, a new training job will be executed inside the *local Docker daemon* and not in the SageMaker environment, on the cloud"
   ]
  },
  {
   "cell_type": "code",
   "execution_count": 4,
   "metadata": {},
   "outputs": [
    {
     "name": "stdout",
     "output_type": "stream",
     "text": [
      "Creating tmpbf6qmkni_algo-1-cfsqy_1 ... \n",
      "\u001b[1BAttaching to tmpbf6qmkni_algo-1-cfsqy_12mdone\u001b[0m\n",
      "\u001b[36malgo-1-cfsqy_1  |\u001b[0m Training mode\n",
      "\u001b[36malgo-1-cfsqy_1  |\u001b[0m Training the classifier\n",
      "\u001b[36malgo-1-cfsqy_1  |\u001b[0m [Parallel(n_jobs=4)]: Using backend ThreadingBackend with 4 concurrent workers.\n",
      "\u001b[36malgo-1-cfsqy_1  |\u001b[0m [Parallel(n_jobs=4)]: Done  42 tasks      | elapsed:    0.1s\n",
      "\u001b[36malgo-1-cfsqy_1  |\u001b[0m [Parallel(n_jobs=4)]: Done 120 out of 120 | elapsed:    0.2s finished\n",
      "\u001b[36malgo-1-cfsqy_1  |\u001b[0m [Parallel(n_jobs=4)]: Using backend ThreadingBackend with 4 concurrent workers.\n",
      "\u001b[36malgo-1-cfsqy_1  |\u001b[0m [Parallel(n_jobs=4)]: Done  42 tasks      | elapsed:    0.0s\n",
      "\u001b[36malgo-1-cfsqy_1  |\u001b[0m [Parallel(n_jobs=4)]: Done 120 out of 120 | elapsed:    0.0s finished\n",
      "\u001b[36malgo-1-cfsqy_1  |\u001b[0m Score: 0.98\n",
      "\u001b[36mtmpbf6qmkni_algo-1-cfsqy_1 exited with code 0\n",
      "\u001b[0mAborting on container exit...\n",
      "===== Job Complete =====\n"
     ]
    }
   ],
   "source": [
    "iris.fit({'train': train_path, 'validation': test_path })"
   ]
  },
  {
   "cell_type": "markdown",
   "metadata": {},
   "source": [
    "The next command will launch a new container in your local Docker daemon. Then you can use the returned predictor for testing it"
   ]
  },
  {
   "cell_type": "code",
   "execution_count": 5,
   "metadata": {},
   "outputs": [
    {
     "name": "stdout",
     "output_type": "stream",
     "text": [
      "Attaching to tmpeuo9basq_algo-1-6926j_1\n",
      "\u001b[36malgo-1-6926j_1  |\u001b[0m 2020-12-15 01:57:41,802 [INFO ] main com.amazonaws.ml.mms.ModelServer - \n",
      "\u001b[36malgo-1-6926j_1  |\u001b[0m MMS Home: /usr/local/lib/python3.7/site-packages\n",
      "\u001b[36malgo-1-6926j_1  |\u001b[0m Current directory: /\n",
      "\u001b[36malgo-1-6926j_1  |\u001b[0m Temp directory: /tmp\n",
      "\u001b[36malgo-1-6926j_1  |\u001b[0m Number of GPUs: 0\n",
      "\u001b[36malgo-1-6926j_1  |\u001b[0m Number of CPUs: 4\n",
      "\u001b[36malgo-1-6926j_1  |\u001b[0m Max heap size: 4012 M\n",
      "\u001b[36malgo-1-6926j_1  |\u001b[0m Python executable: /usr/local/bin/python\n",
      "\u001b[36malgo-1-6926j_1  |\u001b[0m Config file: /etc/sagemaker-mms.properties\n",
      "\u001b[36malgo-1-6926j_1  |\u001b[0m Inference address: http://0.0.0.0:8080\n",
      "\u001b[36malgo-1-6926j_1  |\u001b[0m Management address: http://0.0.0.0:8080\n",
      "\u001b[36malgo-1-6926j_1  |\u001b[0m Model Store: /.sagemaker/mms/models\n",
      "\u001b[36malgo-1-6926j_1  |\u001b[0m Initial Models: ALL\n",
      "\u001b[36malgo-1-6926j_1  |\u001b[0m Log dir: /logs\n",
      "\u001b[36malgo-1-6926j_1  |\u001b[0m Metrics dir: /logs\n",
      "\u001b[36malgo-1-6926j_1  |\u001b[0m Netty threads: 0\n",
      "\u001b[36malgo-1-6926j_1  |\u001b[0m Netty client threads: 0\n",
      "\u001b[36malgo-1-6926j_1  |\u001b[0m Default workers per model: 4\n",
      "\u001b[36malgo-1-6926j_1  |\u001b[0m Blacklist Regex: N/A\n",
      "\u001b[36malgo-1-6926j_1  |\u001b[0m Maximum Response Size: 6553500\n",
      "\u001b[36malgo-1-6926j_1  |\u001b[0m Maximum Request Size: 6553500\n",
      "\u001b[36malgo-1-6926j_1  |\u001b[0m Preload model: false\n",
      "\u001b[36malgo-1-6926j_1  |\u001b[0m Prefer direct buffer: false\n",
      "\u001b[36malgo-1-6926j_1  |\u001b[0m 2020-12-15 01:57:41,883 [WARN ] W-9000-model com.amazonaws.ml.mms.wlm.WorkerLifeCycle - attachIOStreams() threadName=W-9000-model\n",
      "\u001b[36malgo-1-6926j_1  |\u001b[0m 2020-12-15 01:57:41,970 [INFO ] W-9000-model-stdout com.amazonaws.ml.mms.wlm.WorkerLifeCycle - model_service_worker started with args: --sock-type unix --sock-name /tmp/.mms.sock.9000 --handler serving.handler --model-path /.sagemaker/mms/models/model --model-name model --preload-model false --tmp-dir /tmp\n",
      "\u001b[36malgo-1-6926j_1  |\u001b[0m 2020-12-15 01:57:41,972 [INFO ] W-9000-model-stdout com.amazonaws.ml.mms.wlm.WorkerLifeCycle - Listening on port: /tmp/.mms.sock.9000\n",
      "\u001b[36malgo-1-6926j_1  |\u001b[0m 2020-12-15 01:57:41,972 [INFO ] W-9000-model-stdout com.amazonaws.ml.mms.wlm.WorkerLifeCycle - [PID] 34\n",
      "\u001b[36malgo-1-6926j_1  |\u001b[0m 2020-12-15 01:57:41,972 [INFO ] W-9000-model-stdout com.amazonaws.ml.mms.wlm.WorkerLifeCycle - MMS worker started.\n",
      "\u001b[36malgo-1-6926j_1  |\u001b[0m 2020-12-15 01:57:41,973 [INFO ] W-9000-model-stdout com.amazonaws.ml.mms.wlm.WorkerLifeCycle - Python runtime: 3.7.9\n",
      "\u001b[36malgo-1-6926j_1  |\u001b[0m 2020-12-15 01:57:41,973 [INFO ] main com.amazonaws.ml.mms.wlm.ModelManager - Model model loaded.\n",
      "\u001b[36malgo-1-6926j_1  |\u001b[0m 2020-12-15 01:57:41,996 [INFO ] main com.amazonaws.ml.mms.ModelServer - Initialize Inference server with: EpollServerSocketChannel.\n",
      "\u001b[36malgo-1-6926j_1  |\u001b[0m 2020-12-15 01:57:42,014 [INFO ] W-9000-model com.amazonaws.ml.mms.wlm.WorkerThread - Connecting to: /tmp/.mms.sock.9000\n",
      "\u001b[36malgo-1-6926j_1  |\u001b[0m 2020-12-15 01:57:42,014 [INFO ] W-9000-model com.amazonaws.ml.mms.wlm.WorkerThread - Connecting to: /tmp/.mms.sock.9000\n",
      "\u001b[36malgo-1-6926j_1  |\u001b[0m 2020-12-15 01:57:42,014 [INFO ] W-9000-model com.amazonaws.ml.mms.wlm.WorkerThread - Connecting to: /tmp/.mms.sock.9000\n",
      "\u001b[36malgo-1-6926j_1  |\u001b[0m 2020-12-15 01:57:42,014 [INFO ] W-9000-model com.amazonaws.ml.mms.wlm.WorkerThread - Connecting to: /tmp/.mms.sock.9000\n",
      "\u001b[36malgo-1-6926j_1  |\u001b[0m 2020-12-15 01:57:42,095 [INFO ] main com.amazonaws.ml.mms.ModelServer - Inference API bind to: http://0.0.0.0:8080\n",
      "\u001b[36malgo-1-6926j_1  |\u001b[0m Model server started.\n",
      "\u001b[36malgo-1-6926j_1  |\u001b[0m 2020-12-15 01:57:42,099 [WARN ] pool-2-thread-1 com.amazonaws.ml.mms.metrics.MetricCollector - worker pid is not available yet.\n",
      "\u001b[36malgo-1-6926j_1  |\u001b[0m 2020-12-15 01:57:42,113 [INFO ] W-9000-model-stdout com.amazonaws.ml.mms.wlm.WorkerLifeCycle - Connection accepted: /tmp/.mms.sock.9000.\n",
      "\u001b[36malgo-1-6926j_1  |\u001b[0m 2020-12-15 01:57:42,123 [INFO ] W-9000-model-stdout com.amazonaws.ml.mms.wlm.WorkerLifeCycle - Connection accepted: /tmp/.mms.sock.9000.\n",
      "\u001b[36malgo-1-6926j_1  |\u001b[0m 2020-12-15 01:57:42,124 [INFO ] W-9000-model-stdout com.amazonaws.ml.mms.wlm.WorkerLifeCycle - Connection accepted: /tmp/.mms.sock.9000.\n",
      "\u001b[36malgo-1-6926j_1  |\u001b[0m 2020-12-15 01:57:42,134 [INFO ] W-9000-model-stdout com.amazonaws.ml.mms.wlm.WorkerLifeCycle - Connection accepted: /tmp/.mms.sock.9000.\n",
      "\u001b[36malgo-1-6926j_1  |\u001b[0m 2020-12-15 01:57:43,187 [INFO ] W-9000-model-stdout com.amazonaws.ml.mms.wlm.WorkerLifeCycle - Model model loaded io_fd=0242acfffe120002-0000000f-00000001-2584176e0dd61610-bb2f17ca\n",
      "\u001b[36malgo-1-6926j_1  |\u001b[0m 2020-12-15 01:57:43,189 [INFO ] W-9000-model-stdout com.amazonaws.ml.mms.wlm.WorkerLifeCycle - Model model loaded io_fd=0242acfffe120002-0000000f-00000000-10c7e76e0dd61610-6eeff071\n",
      "\u001b[36malgo-1-6926j_1  |\u001b[0m 2020-12-15 01:57:43,193 [INFO ] W-9000-model-stdout com.amazonaws.ml.mms.wlm.WorkerLifeCycle - Model model loaded io_fd=0242acfffe120002-0000000f-00000004-887b176e0dd61610-f093ae77\n",
      "\u001b[36malgo-1-6926j_1  |\u001b[0m 2020-12-15 01:57:43,193 [INFO ] W-9000-model-stdout com.amazonaws.ml.mms.wlm.WorkerLifeCycle - Model model loaded io_fd=0242acfffe120002-0000000f-00000003-836b176e0dd61610-d96ffbd1\n",
      "\u001b[36malgo-1-6926j_1  |\u001b[0m 2020-12-15 01:57:43,198 [INFO ] W-9000-model com.amazonaws.ml.mms.wlm.WorkerThread - Backend response time: 1003\n",
      "\u001b[36malgo-1-6926j_1  |\u001b[0m 2020-12-15 01:57:43,198 [INFO ] W-9000-model com.amazonaws.ml.mms.wlm.WorkerThread - Backend response time: 991\n",
      "\u001b[36malgo-1-6926j_1  |\u001b[0m 2020-12-15 01:57:43,208 [INFO ] W-9000-model com.amazonaws.ml.mms.wlm.WorkerThread - Backend response time: 1001\n",
      "\u001b[36malgo-1-6926j_1  |\u001b[0m 2020-12-15 01:57:43,198 [INFO ] W-9000-model com.amazonaws.ml.mms.wlm.WorkerThread - Backend response time: 991\n",
      "\u001b[36malgo-1-6926j_1  |\u001b[0m 2020-12-15 01:57:43,209 [WARN ] W-9000-model com.amazonaws.ml.mms.wlm.WorkerLifeCycle - attachIOStreams() threadName=W-model-2\n",
      "\u001b[36malgo-1-6926j_1  |\u001b[0m 2020-12-15 01:57:43,208 [WARN ] W-9000-model com.amazonaws.ml.mms.wlm.WorkerLifeCycle - attachIOStreams() threadName=W-model-3\n",
      "\u001b[36malgo-1-6926j_1  |\u001b[0m 2020-12-15 01:57:43,213 [WARN ] W-9000-model com.amazonaws.ml.mms.wlm.WorkerLifeCycle - attachIOStreams() threadName=W-model-1\n",
      "\u001b[36malgo-1-6926j_1  |\u001b[0m 2020-12-15 01:57:43,213 [WARN ] W-9000-model com.amazonaws.ml.mms.wlm.WorkerLifeCycle - attachIOStreams() threadName=W-model-4\n",
      "\u001b[36malgo-1-6926j_1  |\u001b[0m 2020-12-15 01:57:43,819 [INFO ] pool-1-thread-6 ACCESS_LOG - /172.18.0.1:49054 \"GET /ping HTTP/1.1\" 200 14\n",
      "!"
     ]
    }
   ],
   "source": [
    "iris_predictor = iris.deploy(initial_instance_count=1, instance_type='local')"
   ]
  },
  {
   "cell_type": "markdown",
   "metadata": {},
   "source": [
    "Now, let's use the predictor (https://sagemaker.readthedocs.io/en/stable/predictors.html) for some tests."
   ]
  },
  {
   "cell_type": "code",
   "execution_count": 6,
   "metadata": {},
   "outputs": [
    {
     "name": "stdout",
     "output_type": "stream",
     "text": [
      "\u001b[36malgo-1-6926j_1  |\u001b[0m 2020-12-15 01:57:43,862 [WARN ] W-model-2-stderr com.amazonaws.ml.mms.wlm.WorkerLifeCycle - [Parallel(n_jobs=4)]: Using backend ThreadingBackend with 4 concurrent workers.\n",
      "\u001b[36malgo-1-6926j_1  |\u001b[0m 2020-12-15 01:57:43,874 [WARN ] W-model-2-stderr com.amazonaws.ml.mms.wlm.WorkerLifeCycle - [Parallel(n_jobs=4)]: Done  42 tasks      | elapsed:    0.0s\n",
      "\u001b[36malgo-1-6926j_1  |\u001b[0m 2020-12-15 01:57:43,886 [WARN ] W-model-2-stderr com.amazonaws.ml.mms.wlm.WorkerLifeCycle - [Parallel(n_jobs=4)]: Done 120 out of 120 | elapsed:    0.0s finished\n",
      "\u001b[36malgo-1-6926j_1  |\u001b[0m 2020-12-15 01:57:43,967 [INFO ] W-9000-model com.amazonaws.ml.mms.wlm.WorkerThread - Backend response time: 107\n",
      "\u001b[36malgo-1-6926j_1  |\u001b[0m 2020-12-15 01:57:43,968 [INFO ] W-9000-model ACCESS_LOG - /172.18.0.1:49058 \"POST /invocations HTTP/1.1\" 200 111\n",
      "RESULT: 1.0 == [['1.0']] ? False\n",
      "\u001b[36malgo-1-6926j_1  |\u001b[0m 2020-12-15 01:57:43,974 [WARN ] W-model-1-stderr com.amazonaws.ml.mms.wlm.WorkerLifeCycle - [Parallel(n_jobs=4)]: Using backend ThreadingBackend with 4 concurrent workers.\n",
      "\u001b[36malgo-1-6926j_1  |\u001b[0m 2020-12-15 01:57:43,986 [WARN ] W-model-1-stderr com.amazonaws.ml.mms.wlm.WorkerLifeCycle - [Parallel(n_jobs=4)]: Done  42 tasks      | elapsed:    0.0s\n",
      "\u001b[36malgo-1-6926j_1  |\u001b[0m 2020-12-15 01:57:43,999 [WARN ] W-model-1-stderr com.amazonaws.ml.mms.wlm.WorkerLifeCycle - [Parallel(n_jobs=4)]: Done 120 out of 120 | elapsed:    0.0s finished\n",
      "\u001b[36malgo-1-6926j_1  |\u001b[0m 2020-12-15 01:57:44,078 [INFO ] W-9000-model com.amazonaws.ml.mms.wlm.WorkerThread - Backend response time: 105\n",
      "\u001b[36malgo-1-6926j_1  |\u001b[0m 2020-12-15 01:57:44,079 [INFO ] W-9000-model ACCESS_LOG - /172.18.0.1:49058 \"POST /invocations HTTP/1.1\" 200 107\n",
      "RESULT: 0.0 == [['0.0']] ? False\n",
      "\u001b[36malgo-1-6926j_1  |\u001b[0m 2020-12-15 01:57:44,083 [WARN ] W-model-4-stderr com.amazonaws.ml.mms.wlm.WorkerLifeCycle - [Parallel(n_jobs=4)]: Using backend ThreadingBackend with 4 concurrent workers.\n",
      "\u001b[36malgo-1-6926j_1  |\u001b[0m 2020-12-15 01:57:44,095 [WARN ] W-model-4-stderr com.amazonaws.ml.mms.wlm.WorkerLifeCycle - [Parallel(n_jobs=4)]: Done  42 tasks      | elapsed:    0.0s\n",
      "\u001b[36malgo-1-6926j_1  |\u001b[0m 2020-12-15 01:57:44,109 [WARN ] W-model-4-stderr com.amazonaws.ml.mms.wlm.WorkerLifeCycle - [Parallel(n_jobs=4)]: Done 120 out of 120 | elapsed:    0.0s finished\n",
      "\u001b[36malgo-1-6926j_1  |\u001b[0m 2020-12-15 01:57:44,187 [INFO ] W-9000-model com.amazonaws.ml.mms.wlm.WorkerThread - Backend response time: 103\n",
      "\u001b[36malgo-1-6926j_1  |\u001b[0m 2020-12-15 01:57:44,188 [INFO ] W-9000-model ACCESS_LOG - /172.18.0.1:49058 \"POST /invocations HTTP/1.1\" 200 106\n",
      "RESULT: 0.0 == [['0.0']] ? False\n",
      "\u001b[36malgo-1-6926j_1  |\u001b[0m 2020-12-15 01:57:44,192 [WARN ] W-model-3-stderr com.amazonaws.ml.mms.wlm.WorkerLifeCycle - [Parallel(n_jobs=4)]: Using backend ThreadingBackend with 4 concurrent workers.\n",
      "\u001b[36malgo-1-6926j_1  |\u001b[0m 2020-12-15 01:57:44,204 [WARN ] W-model-3-stderr com.amazonaws.ml.mms.wlm.WorkerLifeCycle - [Parallel(n_jobs=4)]: Done  42 tasks      | elapsed:    0.0s\n",
      "\u001b[36malgo-1-6926j_1  |\u001b[0m 2020-12-15 01:57:44,218 [WARN ] W-model-3-stderr com.amazonaws.ml.mms.wlm.WorkerLifeCycle - [Parallel(n_jobs=4)]: Done 120 out of 120 | elapsed:    0.0s finished\n",
      "\u001b[36malgo-1-6926j_1  |\u001b[0m 2020-12-15 01:57:44,296 [INFO ] W-9000-model com.amazonaws.ml.mms.wlm.WorkerThread - Backend response time: 105\n",
      "\u001b[36malgo-1-6926j_1  |\u001b[0m 2020-12-15 01:57:44,296 [INFO ] W-9000-model ACCESS_LOG - /172.18.0.1:49058 \"POST /invocations HTTP/1.1\" 200 106\n",
      "RESULT: 1.0 == [['1.0']] ? False\n",
      "\u001b[36malgo-1-6926j_1  |\u001b[0m 2020-12-15 01:57:44,300 [WARN ] W-model-2-stderr com.amazonaws.ml.mms.wlm.WorkerLifeCycle - [Parallel(n_jobs=4)]: Using backend ThreadingBackend with 4 concurrent workers.\n",
      "\u001b[36malgo-1-6926j_1  |\u001b[0m 2020-12-15 01:57:44,311 [WARN ] W-model-2-stderr com.amazonaws.ml.mms.wlm.WorkerLifeCycle - [Parallel(n_jobs=4)]: Done  42 tasks      | elapsed:    0.0s\n",
      "\u001b[36malgo-1-6926j_1  |\u001b[0m 2020-12-15 01:57:44,325 [WARN ] W-model-2-stderr com.amazonaws.ml.mms.wlm.WorkerLifeCycle - [Parallel(n_jobs=4)]: Done 120 out of 120 | elapsed:    0.0s finished\n",
      "\u001b[36malgo-1-6926j_1  |\u001b[0m 2020-12-15 01:57:44,403 [INFO ] W-9000-model com.amazonaws.ml.mms.wlm.WorkerThread - Backend response time: 104\n",
      "\u001b[36malgo-1-6926j_1  |\u001b[0m 2020-12-15 01:57:44,403 [INFO ] W-9000-model ACCESS_LOG - /172.18.0.1:49058 \"POST /invocations HTTP/1.1\" 200 104\n",
      "RESULT: 2.0 == [['1.0']] ? False\n"
     ]
    }
   ],
   "source": [
    "import pandas as pd\n",
    "import random\n",
    "from sagemaker.serializers import CSVSerializer\n",
    "from sagemaker.deserializers import CSVDeserializer\n",
    "\n",
    "# configure the predictor to do everything for us\n",
    "iris_predictor.serializer = CSVSerializer()\n",
    "iris_predictor.deserializer = CSVDeserializer()\n",
    "\n",
    "# load the testing data from the validation csv\n",
    "validation = pd.read_csv('input/data/validation/testing.csv', header=None)\n",
    "idx = random.randint(0,len(validation)-5)\n",
    "req = validation.iloc[idx:idx+5].values\n",
    "\n",
    "# cut a sample with 5 lines from our dataset and then split the label from the features.\n",
    "X = req[:,1:].tolist()\n",
    "y = req[:,0].tolist()\n",
    "\n",
    "# call the local endpoint\n",
    "for features,label in zip(X,y):\n",
    "    prediction = iris_predictor.predict(features)\n",
    "\n",
    "    # compare the results\n",
    "    print(\"RESULT: {} == {} ? {}\".format( label, prediction, label == prediction ) )"
   ]
  },
  {
   "cell_type": "code",
   "execution_count": 7,
   "metadata": {},
   "outputs": [
    {
     "name": "stdout",
     "output_type": "stream",
     "text": [
      "Gracefully stopping... (press Ctrl+C again to force)\n"
     ]
    }
   ],
   "source": [
    "iris_predictor.delete_endpoint()"
   ]
  },
  {
   "cell_type": "markdown",
   "metadata": {},
   "source": [
    "### That's it! :) Now you can go back to the previous Jupyter notebook and commit the assets to start building the Final Docker Image"
   ]
  }
 ],
 "metadata": {
  "kernelspec": {
   "display_name": "conda_python3",
   "language": "python",
   "name": "conda_python3"
  },
  "language_info": {
   "codemirror_mode": {
    "name": "ipython",
    "version": 3
   },
   "file_extension": ".py",
   "mimetype": "text/x-python",
   "name": "python",
   "nbconvert_exporter": "python",
   "pygments_lexer": "ipython3",
   "version": "3.6.10"
  }
 },
 "nbformat": 4,
 "nbformat_minor": 2
}
